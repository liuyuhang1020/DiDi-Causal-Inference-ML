{
 "cells": [
  {
   "cell_type": "code",
   "execution_count": 246,
   "metadata": {},
   "outputs": [],
   "source": [
    "import pandas as pd\n",
    "import numpy as np\n",
    "import os\n",
    "#import chinese_calendar\n",
    "import matplotlib.pyplot as plt\n",
    "import datetime\n",
    "import json\n",
    "import pickle\n",
    "import math\n",
    "import itertools\n",
    "import time\n",
    "from ortools.linear_solver import pywraplp\n",
    "import warnings\n",
    "warnings.filterwarnings(action='ignore')"
   ]
  },
  {
   "cell_type": "code",
   "execution_count": 247,
   "metadata": {},
   "outputs": [],
   "source": [
    "os.environ['PYSPARK_PYTHON'] = '/home/luban/anaconda3/envs/python36/bin/python'\n",
    "import findspark\n",
    "findspark.init()\n",
    "\n",
    "from pyspark import *\n",
    "from pyspark.sql import *\n",
    "\n",
    "app_name = 'xuyunqing_jupyter'\n",
    "conf = (SparkConf().setAppName(app_name)\n",
    "        .set('spark.master', 'yarn')\n",
    "        .set('spark.submit.deployMode', 'client')\n",
    "        .set('spark.driver.memory',                  '10g')\n",
    "        .set('spark.executor.memory',                '6g')\n",
    "        .set('spark.dynamicAllocation.minExecutors', '2')\n",
    "        .set('spark.dynamicAllocation.maxExecutors', '100')\n",
    "        .set('spark.yarn.queue',                     'celuemoxingbu_driver_service_score_orig')\n",
    "        .set('spark.ui.port','8060')\n",
    "        .set('spark.executor.memoryOverhead','4096')\n",
    "        .set(\"spark.sql.execution.arrow.pyspark.enabled\", \"true\")\n",
    "        .set('spark.driver.allowMultipleCoo nntexts', 'True')\n",
    "        .set('spark.yarn.dist.archives','hdfs://DClusterNmg4/user/bigdata_driver_ecosys_test/ly/python_env/python3.6.2.tgz#python3.6.2')\n",
    "        .set('spark.pyspark.driver.python',          '/home/luban/anaconda3/envs/python36/bin/python')\n",
    "        .set('spark.pyspark.python', './python3.6.2/bin/python')\n",
    "        .set(\"spark.yarn.appMasterEnv.PYSPARK_PYTHON\", './python3.6.2/bin/python')\n",
    "        )\n",
    "spark = SparkSession.builder.config(conf = conf).enableHiveSupport().getOrCreate()\n",
    "\n",
    "from pyspark.sql.functions import col,udf,date_sub,explode,split,date_add\n",
    "from pyspark.sql.types import StringType,DoubleType,IntegerType\n",
    "import pandas as pd\n",
    "import numpy as npx\n",
    "pd.options.display.max_rows = 999\n",
    "pd.options.display.max_columns = 999\n",
    "pd.set_option('expand_frame_repr',False)\n",
    "import matplotlib.pyplot as plt"
   ]
  },
  {
   "cell_type": "code",
   "execution_count": 300,
   "metadata": {},
   "outputs": [],
   "source": [
    "cis = [1,7,8,9,13,14,15,16,20,21,22,23,25,26,28,30,32,33,34,35,36,38,39,40,42,43,44,45,46,47,49,52,53,54,55,56,57,58,59,60,61,63,64,65,66,67,68,69,70,71,72,73,74,75,76,77,78,82,85,86,88,89,91,96,98,99,102,103,104,105,107,109,116,117,118,119,120,122,124,125,126,127,128,129,130,131,132,133,135,137,138,140,141,144,145,146,148,149,150,153,154,156,157,158,160,162,163,164,166,168,169,171,174,175,177,178,179,180,181,185,190,191,192,193,194,195,196,197,198,199,200,201,202,203,205,206,207,208,209,210,211,212,213,214,215,216,217,218,219,220,222,224,225,226,228,230,231,232,238,239,242,243,246,247,248,249,251,252,253,254,255,256,258,260,261,262,264,265,266,267,268,269,270,271,272,273,274,275,276,277,278,280,281,282,283,284,286,287,290,291,292,293,294,295,296,297,298,299,300,301,302,303,305,306,308,309,310,311,312,313,314,315,316,317,318,320,321,322,323,324,325,326,327,328,329,330,331,332,333,334,335,336,337,338,339,340,341,342,343,344,345,346,347,348,349,350,351,352,353,354,355,356,359,360,361,362,363,364,365,366,367,368,369,370,371,372]\n",
    "citystr = ','.join(map(str, cis))\n",
    "alloc_cis = list(set(cis) - set([1,13,16]))"
   ]
  },
  {
   "cell_type": "code",
   "execution_count": 302,
   "metadata": {},
   "outputs": [],
   "source": [
    "gmv_dt, cr_dt = '2023-05-31',  '2023-05-31'\n",
    "sdate, edate = \"2023-06-01\", \"2023-06-01\"\n",
    "city_bucket_budget = 4505305"
   ]
  },
  {
   "cell_type": "markdown",
   "metadata": {},
   "source": [
    "# 函数"
   ]
  },
  {
   "cell_type": "code",
   "execution_count": 304,
   "metadata": {
    "code_folding": [
     0,
     13
    ]
   },
   "outputs": [],
   "source": [
    "def gen_ecr_bucket(x):\n",
    "    if x <= 0.59:  # x > 0.15\n",
    "        return 0\n",
    "    elif x > 0.59 and x <= 0.635:\n",
    "        return 1\n",
    "    elif x > 0.635 and x <= 0.66:\n",
    "        return 2\n",
    "    elif x > 0.66 and x <= 0.685:\n",
    "        return 3\n",
    "    elif x > 0.685: \n",
    "        return 4\n",
    "    \n",
    "    \n",
    "def gen_ecr_dgmv_ratio(x):\n",
    "    w = 0.65\n",
    "    if x.ecr_bin == 0:\n",
    "        return 0.744 * (x.fkhf ** (w)) # 0.744\n",
    "    elif x.ecr_bin == 1:\n",
    "        return 0.69 * (x.fkhf ** (w)) # 0.69\n",
    "    elif x.ecr_bin == 2:\n",
    "        return 0.64 * (x.fkhf ** (w)) # 0.64\n",
    "    elif x.ecr_bin == 3:\n",
    "        return 0.597 * (x.fkhf ** (w)) # 0.597\n",
    "    elif x.ecr_bin == 4:\n",
    "        return 0.542 * (x.fkhf ** (w)) # 0.542"
   ]
  },
  {
   "cell_type": "code",
   "execution_count": 305,
   "metadata": {
    "code_folding": []
   },
   "outputs": [],
   "source": [
    "def gen_ecr_dgmv_ratio_new(x):\n",
    "    w = 0.65\n",
    "    if x.ecr_bin == 0:\n",
    "        return 0.68 * (x.fkhf ** (w)) # 0.744\n",
    "    elif x.ecr_bin == 1:\n",
    "        return 0.66 * (x.fkhf ** (w)) # 0.69\n",
    "    elif x.ecr_bin == 2:\n",
    "        return 0.64 * (x.fkhf ** (w)) # 0.64\n",
    "    elif x.ecr_bin == 3:\n",
    "        return 0.62 * (x.fkhf ** (w)) # 0.597\n",
    "    elif x.ecr_bin == 4:\n",
    "        return 0.6 * (x.fkhf ** (w)) # 0.542"
   ]
  },
  {
   "cell_type": "code",
   "execution_count": 306,
   "metadata": {},
   "outputs": [],
   "source": [
    "def general_enlarge_rest_budget(choose_scheme, budget, scale_cols):\n",
    "    rest_money = choose_scheme['delta_cost'].sum()\n",
    "    enlarge_times = budget / rest_money\n",
    "    print('enlarge_times:', enlarge_times)\n",
    "    choose_scheme[scale_cols] = choose_scheme[scale_cols].apply(lambda x: x * enlarge_times, axis=1)\n",
    "    return choose_scheme"
   ]
  },
  {
   "cell_type": "code",
   "execution_count": 307,
   "metadata": {
    "code_folding": [
     1,
     9
    ]
   },
   "outputs": [],
   "source": [
    "sql2 = \"\"\"\n",
    "select\n",
    "    city_id\n",
    "    ,cast(date_add(dt, 7) as String) stat_date\n",
    "    ,bubble_cnt\n",
    "    ,compete_call_cnt\n",
    "    ,cast(nvl(compete_call_cnt/bubble_cnt, 0) as Double) wyc_ecr\n",
    "from \n",
    "    smt_stg.budget_allocation_xfk_city_daily_table\n",
    "where dt between date_sub('{start_date}', 7) and date_sub('{end_date}', 7) and city_id in ({city_list})\n",
    "    and product_line='网约车'\n",
    "    and group_name='rgroup_joint_blank'\n",
    "\"\"\""
   ]
  },
  {
   "cell_type": "code",
   "execution_count": 308,
   "metadata": {
    "code_folding": []
   },
   "outputs": [],
   "source": [
    "pred_cr_sql = '''\n",
    "select\n",
    "    a.city_id\n",
    "    ,gmv_type\n",
    "    ,exp_cr as score\n",
    "    ,dt\n",
    "    ,stat_date\n",
    "from\n",
    "    (select  \n",
    "            cast(city_id as Integer) city_id\n",
    "            ,half_hour\n",
    "            ,cast(nvl(finish_rate, 0) as Double) exp_cr\n",
    "            ,dt as stat_date\n",
    "            ,concat_ws('-', year, month, day) as dt\n",
    "    from    riemann.gongxu_cr_half_hour_pred_test\n",
    "    where   exp_id = 'irving'\n",
    "      and   product_id = 'day_110100_110400_110800_110103'\n",
    "      and concat_ws('-', year, month, day)=date_sub('{start_date}', 1)\n",
    "      and city_id in ({city_list})\n",
    "    )a\n",
    "    join\n",
    "    (select\n",
    "        distinct city_id\n",
    "        ,gmv_type\n",
    "    from\n",
    "        smt_stg.smt_err_budget_alloc_city_t1\n",
    "    where\n",
    "        dt='2023-04-01'\n",
    "        and city_type='非战区非下沉'\n",
    "    )b\n",
    "    on a.city_id=b.city_id\n",
    "'''.format(cr_dt=cr_dt, start_date=sdate, city_list=citystr)"
   ]
  },
  {
   "cell_type": "code",
   "execution_count": 309,
   "metadata": {},
   "outputs": [],
   "source": [
    "pred_cr_sql = '''\n",
    "select\n",
    "    estimate_date as stat_date\n",
    "    ,city_id\n",
    "    ,cast(sum(if(key_id='objective_exp_openapi_pp', estimate_value, 0)) as Double) score -- 剔除openapi的客观cr\n",
    "from \n",
    "    mp_data.app_trip_mkt_supply_demand_forecast_result_di\n",
    "where\n",
    "    dt = date_sub('{cr_dt}', 0) -- 指定的 gmv dt 分区\n",
    "    and  estimate_date between '{start_date}' and '{end_date}'\n",
    "    and city_id in ({city_list})\n",
    "    and product_name = '泛快2（快车&特惠快车&市内拼车）'\n",
    "group by estimate_date, city_id\n",
    "'''.format(cr_dt=cr_dt, start_date=sdate,end_date = edate, city_list=citystr)"
   ]
  },
  {
   "cell_type": "code",
   "execution_count": 310,
   "metadata": {
    "code_folding": []
   },
   "outputs": [],
   "source": [
    "mps_candidate_sql = \"\"\"\n",
    "    select\n",
    "        base.tdate stat_date,\n",
    "        base.city_id city_id,\n",
    "        base.combo_idx combo_idx,\n",
    "        base.combo_subsidy_rate combo_subsidy_rate,\n",
    "        is_candidate,\n",
    "        cast(coalesce(pred_roi * pred_delta_cost,0) as Double) delta_gmv,\n",
    "        cast(coalesce(pred_profit_roi * pred_delta_cost,0) as Double) delta_bp,\n",
    "        cast(coalesce(pred_delta_cost,0) as Double) delta_cost,\n",
    "        concat_ws(':',cast(base.city_id as  string),  base.combo_subsidy_rate) robot_k,\n",
    "        cast(split(base.combo_subsidy_rate, ',')[0] as double) as kc_subsidy_rate,\n",
    "        cast(split(base.combo_subsidy_rate, ',')[1] as double) as th_subsidy_rate,\n",
    "        cast((pukuai_gmv*cast(split(base.combo_subsidy_rate, ',')[0] as double) + tehui_gmv * cast(split(base.combo_subsidy_rate, ',')[1] as double))/total_gmv as Double) crate,\n",
    "        cast(total_gmv as DOUBLE) total_gmv, \n",
    "        cast(pukuai_gmv as DOUBLE) pukuai_gmv, \n",
    "        cast(tehui_gmv as DOUBLE) tehui_gmv\n",
    "        from\n",
    "        (select\n",
    "            city_id,\n",
    "            combo_idx,\n",
    "            combo_subsidy_rate,\n",
    "            is_candidate,\n",
    "            tdate\n",
    "        from\n",
    "            smt_stg.budget_allocation_pas_candidate\n",
    "        where\n",
    "            concat_ws('-',year,month,day)='{activity_date}' and tdate between '{start_date}' and '{end_date}' \n",
    "            and city_id in ({city_list}) and version = 'v2'\n",
    "        ) base\n",
    "        left join\n",
    "        (select *\n",
    "         from\n",
    "            (select\n",
    "                city_id,\n",
    "                combo_idx,\n",
    "                combo_subsidy_rate,\n",
    "                pred_roi,\n",
    "                cast(concat_ws('-',year,month,day) as String) tdate\n",
    "            from\n",
    "                smt_stg.budget_allocation_pred_delta_gmv_v3\n",
    "            where\n",
    "                concat_ws('-',year,month,day)='{activity_date}' and city_id in ({city_list}) and version = 'roi_lgb_v1'\n",
    "            )\n",
    "            union\n",
    "            (select\n",
    "                city_id,\n",
    "                combo_idx,\n",
    "                combo_subsidy_rate,\n",
    "                pred_roi,\n",
    "                cast(date_add(concat_ws('-',year,month,day), 7) as String) tdate\n",
    "            from\n",
    "                smt_stg.budget_allocation_pred_delta_gmv_v3\n",
    "            where\n",
    "                concat_ws('-',year,month,day) between date_sub(date_add('{activity_date}', 1), 7) and date_sub('{end_date}', 7) \n",
    "                and city_id in ({city_list}) and version = 'roi_lgb_v1'\n",
    "            )        \n",
    "        ) gmv\n",
    "        on base.city_id = gmv.city_id and base.combo_idx = gmv.combo_idx and base.combo_subsidy_rate=gmv.combo_subsidy_rate and base.tdate = gmv.tdate\n",
    "        left join\n",
    "        (select *\n",
    "        from\n",
    "            (select\n",
    "                city_id,\n",
    "                combo_idx,\n",
    "                combo_subsidy_rate,\n",
    "                pred_profit_roi,\n",
    "                cast(concat_ws('-',year,month,day) as String) tdate\n",
    "            from\n",
    "                smt_stg.budget_allocation_pred_delta_profit_ivf\n",
    "            where\n",
    "                concat_ws('-',year,month,day)='{activity_date}' and city_id in ({city_list}) and version = 'iv_forest_v1'\n",
    "            )\n",
    "            union\n",
    "            (select\n",
    "                city_id,\n",
    "                combo_idx,\n",
    "                combo_subsidy_rate,\n",
    "                pred_profit_roi,\n",
    "                cast(date_add(concat_ws('-',year,month,day), 7)  as String) tdate\n",
    "            from smt_stg.budget_allocation_pred_delta_profit_ivf\n",
    "            where\n",
    "                concat_ws('-',year,month,day) between date_sub(date_add('{activity_date}', 1), 7) and date_sub('{end_date}', 7) \n",
    "                and city_id in ({city_list}) and version = 'iv_forest_v1'\n",
    "            )\n",
    "        ) profit\n",
    "        on base.city_id = profit.city_id and base.combo_idx = profit.combo_idx and base.combo_subsidy_rate = profit.combo_subsidy_rate and base.tdate = profit.tdate\n",
    "        left join\n",
    "        (select\n",
    "            city_id,\n",
    "            combo_idx,\n",
    "            combo_subsidy_rate,\n",
    "            pred_delta_cost,\n",
    "            tdate,\n",
    "            pukuai_gmv,\n",
    "            tehui_gmv\n",
    "        from\n",
    "            smt_stg.budget_allocation_pred_delta_cost\n",
    "        where\n",
    "            concat_ws('-',year,month,day)='{activity_date}' and tdate between '{start_date}' and '{end_date}'   \n",
    "            and city_id in ({city_list}) and version = 'v1'\n",
    "        ) cost\n",
    "        on base.city_id = cost.city_id and base.combo_idx = cost.combo_idx and base.combo_subsidy_rate=cost.combo_subsidy_rate and base.tdate = cost.tdate\n",
    "        left join\n",
    "        ( select\n",
    "            estimate_date as pred_date,\n",
    "            city_id,\n",
    "            sum(case when key_id = 'gmv' then estimate_value else 0.0 end ) as total_gmv,\n",
    "            coalesce( sum( case when key_id = 'gmv' then estimate_value else 0.0 end ) / sum( case when key_id = 'finish_order_cnt' then estimate_value else 0.0 end ),10.0) as asp,\n",
    "            sum(case when key_id = 'total_tsh' then estimate_value else 0.0 end)/sum( case when key_id = 'compete_call_cnt' then estimate_value else 0.0 end ) as dsr\n",
    "        from\n",
    "            mp_data.app_trip_mkt_supply_demand_forecast_result_di\n",
    "        where\n",
    "            dt = '{gmv_dt}' -- 指定的 gmv dt 分区\n",
    "            and estimate_date between '{start_date}' and '{end_date}'\n",
    "            and product_name = '泛快含优不含拼（快车（普通快车、A+、车大、巡游网约车）、优享、D1、特惠快车、涅槃）' --新泛快\n",
    "        group by\n",
    "            estimate_date,\n",
    "            city_id) dsr\n",
    "     on base.city_id = dsr.city_id and base.tdate= dsr.pred_date\n",
    "    \"\"\""
   ]
  },
  {
   "cell_type": "code",
   "execution_count": 311,
   "metadata": {
    "code_folding": [
     0
    ]
   },
   "outputs": [],
   "source": [
    "class BaseSolver:\n",
    "    \"\"\"简化版预算分配求解器\"\"\"\n",
    "\n",
    "    def __init__(self, candidates, is_bp=True, solver_id='CBC', city_must_cost=True, mode='all', total_budget=0, other_constraints=[]):\n",
    "        self.solver = pywraplp.Solver.CreateSolver(solver_id)\n",
    "        if mode == 'all':\n",
    "            self.budget = 23455199\n",
    "        elif mode == 'city_bucket':\n",
    "            self.budget = total_budget\n",
    "        self.other_constraints = other_constraints\n",
    "        self.is_bp = is_bp\n",
    "        self.df = candidates\n",
    "        self.df = candidates[candidates[Valid_Col] == 1]\n",
    "        self.city_must_spend = city_must_cost\n",
    "        self.xs = None\n",
    "\n",
    "    def create_variables(self):\n",
    "        self.xs = [self.solver.IntVar(0, 1, f'combo_{i}') for i in self.df.index]\n",
    "\n",
    "    def add_constraints(self):\n",
    "        \"\"\"添加求解约束\n",
    "        目前只有两种约束：预算约束、分城市给补\n",
    "        \"\"\"\n",
    "        cost = self.solver.Sum(self.xs[i] * self.df.loc[i, 'delta_cost'] for i in self.df.index)\n",
    "        self.solver.Add(cost <= self.budget)\n",
    "        self.df.groupby(['city_id', 'stat_date']).apply(self.add_city_constraint)\n",
    "        '''自定义约束'''\n",
    "        for cons in self.other_constraints:\n",
    "            print(\"自定义约束：\", cons)\n",
    "            if cons == 'pk_budget_upper_limit':\n",
    "                self.add_pk_constarint()\n",
    "\n",
    "    def add_pk_constarint(self, ratio=0.025):\n",
    "        day_num = len(self.df.stat_date.unique())\n",
    "        day_pk_budget = float(self.budget * ratio / day_num)\n",
    "        print(\"分框天数:\", day_num, \"day pukuai budget:\", day_pk_budget)\n",
    "        self.df.groupby(['stat_date']).apply(self.add_day_pk_constraint, day_pk_budget=day_pk_budget)\n",
    "\n",
    "    def add_day_pk_constraint(self, group_df, day_pk_budget):\n",
    "        pk_cost = self.solver.Sum(self.xs[i] * self.df.loc[i, 'pk_budget'] for i in group_df.index)\n",
    "        self.solver.Add(pk_cost >= day_pk_budget)\n",
    "\n",
    "    def set_objective(self):\n",
    "        dgmv = self.solver.Sum(self.xs[i] * self.df.loc[i, 'ate'] for i in self.df.index)\n",
    "        self.solver.Maximize(dgmv)\n",
    "\n",
    "    def cal_ate(self, lambda_value):\n",
    "        if self.is_bp:\n",
    "            self.df['ate'] = self.df['delta_gmv'] + lambda_value * self.df['delta_bp']\n",
    "        else:\n",
    "            self.df['ate'] = self.df['delta_gmv']\n",
    "\n",
    "    def solve(self):\n",
    "        # 确保 index 为 0 到 length - 1\n",
    "        lambda_value = self.get_lambda([2, 1.5, 1, 0.5, 0.4, 0.3, 0.25, 0.2, 0.15, 0.1, 0.05, 0.01])\n",
    "        self.cal_ate(lambda_value)\n",
    "        self.df = self.df.reset_index()\n",
    "        self.create_variables()\n",
    "        self.add_constraints()\n",
    "        self.set_objective()\n",
    "        start = time.time()\n",
    "        status = self.solver.Solve()\n",
    "        print(f'Solve status: {status}. Time cost: {time.time() - start:.2f}s')\n",
    "        out_put = self.return_candicate(status)\n",
    "        return out_put\n",
    "\n",
    "    def return_candicate(self, status):\n",
    "        if status == 0:\n",
    "            index_list = []\n",
    "            for index in range(len(self.xs)):\n",
    "                if self.xs[index].solution_value() > 0:\n",
    "                    index_list.append(index)\n",
    "            out_put = self.df.loc[index_list, ]\n",
    "            print(out_put.delta_cost.sum())\n",
    "            return out_put\n",
    "        else:\n",
    "            return pd.DataFrame()\n",
    "\n",
    "\n",
    "    def add_city_constraint(self, group_df):\n",
    "        expr = self.solver.Sum(self.xs[i] for i in group_df.index)\n",
    "        if self.city_must_spend:\n",
    "            self.solver.Add(expr == 1)\n",
    "        else:\n",
    "            self.solver.Add(expr <= 1)\n",
    "\n",
    "\n",
    "    def get_lambda(self, lambda_list):\n",
    "        \"\"\"\n",
    "        基于预算包选择合适的lambda，筛选出每个城市符合条件的c补组合对应的delta_ate最大的行对应的cost累计，来看最大cost\n",
    "        \"\"\"\n",
    "        if not self.is_bp:\n",
    "            return 0\n",
    "        for l in lambda_list:\n",
    "            total_cost = 0\n",
    "            self.df['ate'] = self.df['delta_gmv'] + l * self.df['delta_bp']\n",
    "            for city_id in self.df['city_id'].unique():\n",
    "                tmp = self.df[self.df['city_id'] == city_id]\n",
    "                tmp_sort = tmp.sort_values(by='ate', ascending=False).reset_index()\n",
    "                if tmp_sort.loc[0, 'ate'] > 0:\n",
    "                    cost = tmp_sort.loc[0, 'delta_cost']\n",
    "                    total_cost += cost\n",
    "            if total_cost >= self.budget * 1.1:\n",
    "                return l\n",
    "        return l"
   ]
  },
  {
   "cell_type": "markdown",
   "metadata": {},
   "source": [
    "# 模拟"
   ]
  },
  {
   "cell_type": "code",
   "execution_count": 312,
   "metadata": {
    "code_folding": [
     0
    ]
   },
   "outputs": [
    {
     "name": "stdout",
     "output_type": "stream",
     "text": [
      "\n",
      "    select\n",
      "        base.tdate stat_date,\n",
      "        base.city_id city_id,\n",
      "        base.combo_idx combo_idx,\n",
      "        base.combo_subsidy_rate combo_subsidy_rate,\n",
      "        is_candidate,\n",
      "        cast(coalesce(pred_roi * pred_delta_cost,0) as Double) delta_gmv,\n",
      "        cast(coalesce(pred_profit_roi * pred_delta_cost,0) as Double) delta_bp,\n",
      "        cast(coalesce(pred_delta_cost,0) as Double) delta_cost,\n",
      "        concat_ws(':',cast(base.city_id as  string),  base.combo_subsidy_rate) robot_k,\n",
      "        cast(split(base.combo_subsidy_rate, ',')[0] as double) as kc_subsidy_rate,\n",
      "        cast(split(base.combo_subsidy_rate, ',')[1] as double) as th_subsidy_rate,\n",
      "        cast((pukuai_gmv*cast(split(base.combo_subsidy_rate, ',')[0] as double) + tehui_gmv * cast(split(base.combo_subsidy_rate, ',')[1] as double))/total_gmv as Double) crate,\n",
      "        cast(total_gmv as DOUBLE) total_gmv, \n",
      "        cast(pukuai_gmv as DOUBLE) pukuai_gmv, \n",
      "        cast(tehui_gmv as DOUBLE) tehui_gmv\n",
      "        from\n",
      "        (select\n",
      "            city_id,\n",
      "            combo_idx,\n",
      "            combo_subsidy_rate,\n",
      "            is_candidate,\n",
      "            tdate\n",
      "        from\n",
      "            smt_stg.budget_allocation_pas_candidate\n",
      "        where\n",
      "            concat_ws('-',year,month,day)='2023-06-01' and tdate between '2023-06-01' and '2023-06-01' \n",
      "            and city_id in (1,7,8,9,13,14,15,16,20,21,22,23,25,26,28,30,32,33,34,35,36,38,39,40,42,43,44,45,46,47,49,52,53,54,55,56,57,58,59,60,61,63,64,65,66,67,68,69,70,71,72,73,74,75,76,77,78,82,85,86,88,89,91,96,98,99,102,103,104,105,107,109,116,117,118,119,120,122,124,125,126,127,128,129,130,131,132,133,135,137,138,140,141,144,145,146,148,149,150,153,154,156,157,158,160,162,163,164,166,168,169,171,174,175,177,178,179,180,181,185,190,191,192,193,194,195,196,197,198,199,200,201,202,203,205,206,207,208,209,210,211,212,213,214,215,216,217,218,219,220,222,224,225,226,228,230,231,232,238,239,242,243,246,247,248,249,251,252,253,254,255,256,258,260,261,262,264,265,266,267,268,269,270,271,272,273,274,275,276,277,278,280,281,282,283,284,286,287,290,291,292,293,294,295,296,297,298,299,300,301,302,303,305,306,308,309,310,311,312,313,314,315,316,317,318,320,321,322,323,324,325,326,327,328,329,330,331,332,333,334,335,336,337,338,339,340,341,342,343,344,345,346,347,348,349,350,351,352,353,354,355,356,359,360,361,362,363,364,365,366,367,368,369,370,371,372) and version = 'v2'\n",
      "        ) base\n",
      "        left join\n",
      "        (select *\n",
      "         from\n",
      "            (select\n",
      "                city_id,\n",
      "                combo_idx,\n",
      "                combo_subsidy_rate,\n",
      "                pred_roi,\n",
      "                cast(concat_ws('-',year,month,day) as String) tdate\n",
      "            from\n",
      "                smt_stg.budget_allocation_pred_delta_gmv_v3\n",
      "            where\n",
      "                concat_ws('-',year,month,day)='2023-06-01' and city_id in (1,7,8,9,13,14,15,16,20,21,22,23,25,26,28,30,32,33,34,35,36,38,39,40,42,43,44,45,46,47,49,52,53,54,55,56,57,58,59,60,61,63,64,65,66,67,68,69,70,71,72,73,74,75,76,77,78,82,85,86,88,89,91,96,98,99,102,103,104,105,107,109,116,117,118,119,120,122,124,125,126,127,128,129,130,131,132,133,135,137,138,140,141,144,145,146,148,149,150,153,154,156,157,158,160,162,163,164,166,168,169,171,174,175,177,178,179,180,181,185,190,191,192,193,194,195,196,197,198,199,200,201,202,203,205,206,207,208,209,210,211,212,213,214,215,216,217,218,219,220,222,224,225,226,228,230,231,232,238,239,242,243,246,247,248,249,251,252,253,254,255,256,258,260,261,262,264,265,266,267,268,269,270,271,272,273,274,275,276,277,278,280,281,282,283,284,286,287,290,291,292,293,294,295,296,297,298,299,300,301,302,303,305,306,308,309,310,311,312,313,314,315,316,317,318,320,321,322,323,324,325,326,327,328,329,330,331,332,333,334,335,336,337,338,339,340,341,342,343,344,345,346,347,348,349,350,351,352,353,354,355,356,359,360,361,362,363,364,365,366,367,368,369,370,371,372) and version = 'roi_lgb_v1'\n",
      "            )\n",
      "            union\n",
      "            (select\n",
      "                city_id,\n",
      "                combo_idx,\n",
      "                combo_subsidy_rate,\n",
      "                pred_roi,\n",
      "                cast(date_add(concat_ws('-',year,month,day), 7) as String) tdate\n",
      "            from\n",
      "                smt_stg.budget_allocation_pred_delta_gmv_v3\n",
      "            where\n",
      "                concat_ws('-',year,month,day) between date_sub(date_add('2023-06-01', 1), 7) and date_sub('2023-06-01', 7) \n",
      "                and city_id in (1,7,8,9,13,14,15,16,20,21,22,23,25,26,28,30,32,33,34,35,36,38,39,40,42,43,44,45,46,47,49,52,53,54,55,56,57,58,59,60,61,63,64,65,66,67,68,69,70,71,72,73,74,75,76,77,78,82,85,86,88,89,91,96,98,99,102,103,104,105,107,109,116,117,118,119,120,122,124,125,126,127,128,129,130,131,132,133,135,137,138,140,141,144,145,146,148,149,150,153,154,156,157,158,160,162,163,164,166,168,169,171,174,175,177,178,179,180,181,185,190,191,192,193,194,195,196,197,198,199,200,201,202,203,205,206,207,208,209,210,211,212,213,214,215,216,217,218,219,220,222,224,225,226,228,230,231,232,238,239,242,243,246,247,248,249,251,252,253,254,255,256,258,260,261,262,264,265,266,267,268,269,270,271,272,273,274,275,276,277,278,280,281,282,283,284,286,287,290,291,292,293,294,295,296,297,298,299,300,301,302,303,305,306,308,309,310,311,312,313,314,315,316,317,318,320,321,322,323,324,325,326,327,328,329,330,331,332,333,334,335,336,337,338,339,340,341,342,343,344,345,346,347,348,349,350,351,352,353,354,355,356,359,360,361,362,363,364,365,366,367,368,369,370,371,372) and version = 'roi_lgb_v1'\n",
      "            )        \n",
      "        ) gmv\n",
      "        on base.city_id = gmv.city_id and base.combo_idx = gmv.combo_idx and base.combo_subsidy_rate=gmv.combo_subsidy_rate and base.tdate = gmv.tdate\n",
      "        left join\n",
      "        (select *\n",
      "        from\n",
      "            (select\n",
      "                city_id,\n",
      "                combo_idx,\n",
      "                combo_subsidy_rate,\n",
      "                pred_profit_roi,\n",
      "                cast(concat_ws('-',year,month,day) as String) tdate\n",
      "            from\n",
      "                smt_stg.budget_allocation_pred_delta_profit_ivf\n",
      "            where\n",
      "                concat_ws('-',year,month,day)='2023-06-01' and city_id in (1,7,8,9,13,14,15,16,20,21,22,23,25,26,28,30,32,33,34,35,36,38,39,40,42,43,44,45,46,47,49,52,53,54,55,56,57,58,59,60,61,63,64,65,66,67,68,69,70,71,72,73,74,75,76,77,78,82,85,86,88,89,91,96,98,99,102,103,104,105,107,109,116,117,118,119,120,122,124,125,126,127,128,129,130,131,132,133,135,137,138,140,141,144,145,146,148,149,150,153,154,156,157,158,160,162,163,164,166,168,169,171,174,175,177,178,179,180,181,185,190,191,192,193,194,195,196,197,198,199,200,201,202,203,205,206,207,208,209,210,211,212,213,214,215,216,217,218,219,220,222,224,225,226,228,230,231,232,238,239,242,243,246,247,248,249,251,252,253,254,255,256,258,260,261,262,264,265,266,267,268,269,270,271,272,273,274,275,276,277,278,280,281,282,283,284,286,287,290,291,292,293,294,295,296,297,298,299,300,301,302,303,305,306,308,309,310,311,312,313,314,315,316,317,318,320,321,322,323,324,325,326,327,328,329,330,331,332,333,334,335,336,337,338,339,340,341,342,343,344,345,346,347,348,349,350,351,352,353,354,355,356,359,360,361,362,363,364,365,366,367,368,369,370,371,372) and version = 'iv_forest_v1'\n",
      "            )\n",
      "            union\n",
      "            (select\n",
      "                city_id,\n",
      "                combo_idx,\n",
      "                combo_subsidy_rate,\n",
      "                pred_profit_roi,\n",
      "                cast(date_add(concat_ws('-',year,month,day), 7)  as String) tdate\n",
      "            from smt_stg.budget_allocation_pred_delta_profit_ivf\n",
      "            where\n",
      "                concat_ws('-',year,month,day) between date_sub(date_add('2023-06-01', 1), 7) and date_sub('2023-06-01', 7) \n",
      "                and city_id in (1,7,8,9,13,14,15,16,20,21,22,23,25,26,28,30,32,33,34,35,36,38,39,40,42,43,44,45,46,47,49,52,53,54,55,56,57,58,59,60,61,63,64,65,66,67,68,69,70,71,72,73,74,75,76,77,78,82,85,86,88,89,91,96,98,99,102,103,104,105,107,109,116,117,118,119,120,122,124,125,126,127,128,129,130,131,132,133,135,137,138,140,141,144,145,146,148,149,150,153,154,156,157,158,160,162,163,164,166,168,169,171,174,175,177,178,179,180,181,185,190,191,192,193,194,195,196,197,198,199,200,201,202,203,205,206,207,208,209,210,211,212,213,214,215,216,217,218,219,220,222,224,225,226,228,230,231,232,238,239,242,243,246,247,248,249,251,252,253,254,255,256,258,260,261,262,264,265,266,267,268,269,270,271,272,273,274,275,276,277,278,280,281,282,283,284,286,287,290,291,292,293,294,295,296,297,298,299,300,301,302,303,305,306,308,309,310,311,312,313,314,315,316,317,318,320,321,322,323,324,325,326,327,328,329,330,331,332,333,334,335,336,337,338,339,340,341,342,343,344,345,346,347,348,349,350,351,352,353,354,355,356,359,360,361,362,363,364,365,366,367,368,369,370,371,372) and version = 'iv_forest_v1'\n",
      "            )\n",
      "        ) profit\n",
      "        on base.city_id = profit.city_id and base.combo_idx = profit.combo_idx and base.combo_subsidy_rate = profit.combo_subsidy_rate and base.tdate = profit.tdate\n",
      "        left join\n",
      "        (select\n",
      "            city_id,\n",
      "            combo_idx,\n",
      "            combo_subsidy_rate,\n",
      "            pred_delta_cost,\n",
      "            tdate,\n",
      "            pukuai_gmv,\n",
      "            tehui_gmv\n",
      "        from\n",
      "            smt_stg.budget_allocation_pred_delta_cost\n",
      "        where\n",
      "            concat_ws('-',year,month,day)='2023-06-01' and tdate between '2023-06-01' and '2023-06-01'   \n",
      "            and city_id in (1,7,8,9,13,14,15,16,20,21,22,23,25,26,28,30,32,33,34,35,36,38,39,40,42,43,44,45,46,47,49,52,53,54,55,56,57,58,59,60,61,63,64,65,66,67,68,69,70,71,72,73,74,75,76,77,78,82,85,86,88,89,91,96,98,99,102,103,104,105,107,109,116,117,118,119,120,122,124,125,126,127,128,129,130,131,132,133,135,137,138,140,141,144,145,146,148,149,150,153,154,156,157,158,160,162,163,164,166,168,169,171,174,175,177,178,179,180,181,185,190,191,192,193,194,195,196,197,198,199,200,201,202,203,205,206,207,208,209,210,211,212,213,214,215,216,217,218,219,220,222,224,225,226,228,230,231,232,238,239,242,243,246,247,248,249,251,252,253,254,255,256,258,260,261,262,264,265,266,267,268,269,270,271,272,273,274,275,276,277,278,280,281,282,283,284,286,287,290,291,292,293,294,295,296,297,298,299,300,301,302,303,305,306,308,309,310,311,312,313,314,315,316,317,318,320,321,322,323,324,325,326,327,328,329,330,331,332,333,334,335,336,337,338,339,340,341,342,343,344,345,346,347,348,349,350,351,352,353,354,355,356,359,360,361,362,363,364,365,366,367,368,369,370,371,372) and version = 'v1'\n",
      "        ) cost\n",
      "        on base.city_id = cost.city_id and base.combo_idx = cost.combo_idx and base.combo_subsidy_rate=cost.combo_subsidy_rate and base.tdate = cost.tdate\n",
      "        left join\n",
      "        ( select\n",
      "            estimate_date as pred_date,\n",
      "            city_id,\n",
      "            sum(case when key_id = 'gmv' then estimate_value else 0.0 end ) as total_gmv,\n",
      "            coalesce( sum( case when key_id = 'gmv' then estimate_value else 0.0 end ) / sum( case when key_id = 'finish_order_cnt' then estimate_value else 0.0 end ),10.0) as asp,\n",
      "            sum(case when key_id = 'total_tsh' then estimate_value else 0.0 end)/sum( case when key_id = 'compete_call_cnt' then estimate_value else 0.0 end ) as dsr\n",
      "        from\n",
      "            mp_data.app_trip_mkt_supply_demand_forecast_result_di\n",
      "        where\n",
      "            dt = '2023-05-31' -- 指定的 gmv dt 分区\n",
      "            and estimate_date between '2023-06-01' and '2023-06-01'\n",
      "            and product_name = '泛快含优不含拼（快车（普通快车、A+、车大、巡游网约车）、优享、D1、特惠快车、涅槃）' --新泛快\n",
      "        group by\n",
      "            estimate_date,\n",
      "            city_id) dsr\n",
      "     on base.city_id = dsr.city_id and base.tdate= dsr.pred_date\n",
      "    \n"
     ]
    },
    {
     "name": "stdout",
     "output_type": "stream",
     "text": [
      "delta_gmv null的城市: []\n",
      "delta_gmv null的日期: []\n"
     ]
    }
   ],
   "source": [
    "sql = mps_candidate_sql.format(activity_date=sdate,\n",
    "                                       gmv_dt=gmv_dt,\n",
    "                                    start_date=sdate,\n",
    "                                    end_date=edate,\n",
    "                                    city_list=citystr)\n",
    "print(sql)\n",
    "pred_candidate = spark.sql(sql).toPandas()\n",
    "\n",
    "pred_candidate['pk_budget'] = pred_candidate['pukuai_gmv'] * pred_candidate['kc_subsidy_rate']\n",
    "pred_candidate['th_budget'] = pred_candidate['tehui_gmv'] * pred_candidate['th_subsidy_rate']\n",
    "pred_candidate['city_day_key'] = pred_candidate.apply(lambda x: str(x.city_id)+'_' + x.stat_date,axis = 1)\n",
    "\n",
    "lack_cis = pred_candidate[pred_candidate['delta_gmv'].isna()].city_id.unique()\n",
    "print(\"delta_gmv null的城市:\", lack_cis)\n",
    "print(\"delta_gmv null的日期:\", pred_candidate[pred_candidate['delta_gmv'].isna()].stat_date.unique())\n",
    "\n",
    "gmvdf = pred_candidate[['city_id', 'stat_date','total_gmv' ]].drop_duplicates()"
   ]
  },
  {
   "cell_type": "raw",
   "metadata": {},
   "source": [
    "# ecr分框"
   ]
  },
  {
   "cell_type": "code",
   "execution_count": 313,
   "metadata": {},
   "outputs": [],
   "source": [
    "ecrdf1 = spark.sql(sql2.format(start_date=sdate, end_date=edate, city_list=citystr)).toPandas()\n",
    "ecrdf1 = ecrdf1.query(\"city_id in @cis and stat_date >= '%s' and stat_date <= '%s'\" % (sdate, edate))"
   ]
  },
  {
   "cell_type": "code",
   "execution_count": 314,
   "metadata": {},
   "outputs": [
    {
     "name": "stdout",
     "output_type": "stream",
     "text": [
      "开始时间: 2023-03-03\n",
      "2023-06-01 当日缺失城市： []\n",
      "填充行数: 0\n"
     ]
    }
   ],
   "source": [
    "from datetime import datetime, timedelta\n",
    "day1 = (datetime.strptime(sdate, \"%Y-%m-%d\") - timedelta(days=90)).strftime(\"%Y-%m-%d\")\n",
    "print(\"开始时间:\", day1)\n",
    "past_day_sql = sql2.format(start_date=day1, end_date=edate, city_list=citystr)\n",
    "pastdf = spark.sql(past_day_sql).toPandas()\n",
    "\n",
    "\n",
    "df_li = []\n",
    "for day in pd.date_range(sdate, edate).astype(str):\n",
    "    tt = ecrdf1.query(\"stat_date=='%s'\" % day)\n",
    "    city_list = alloc_cis\n",
    "    lack_cis = list(set(city_list) - set(tt.city_id.unique()))\n",
    "    print(day, \"当日缺失城市：\", lack_cis)\n",
    "    filldf = pastdf.query(\"city_id in @lack_cis\").groupby('city_id')[['wyc_ecr']].agg('mean').reset_index()\n",
    "    filldf['stat_date'] = day\n",
    "    df_li.append(filldf)\n",
    "\n",
    "filldf = pd.concat(df_li, ignore_index=True)\n",
    "print(\"填充行数:\", len(filldf))\n",
    "ecrdf = pd.concat([ecrdf1, filldf], ignore_index=True)[['city_id', 'stat_date', 'wyc_ecr']]"
   ]
  },
  {
   "cell_type": "code",
   "execution_count": 315,
   "metadata": {},
   "outputs": [
    {
     "name": "stdout",
     "output_type": "stream",
     "text": [
      "ratedf:    city_id   stat_date    fkhf\n",
      "0        1  2023-06-01  0.0000\n",
      "1        1  2023-06-01  0.0005\n",
      "2        1  2023-06-01  0.0010\n",
      "3        1  2023-06-01  0.0015\n",
      "4        1  2023-06-01  0.0020\n"
     ]
    }
   ],
   "source": [
    "ecrdf['ecr_bin'] = ecrdf['wyc_ecr'].apply(gen_ecr_bucket)\n",
    "ecrdf = ecrdf[~ecrdf['ecr_bin'].isna()]\n",
    "\n",
    "dates = list(pd.date_range(sdate, edate).astype(str))\n",
    "fkhf_list = list(itertools.product(cis, dates, np.arange(0, 0.11, 0.0005)))\n",
    "ratedf = pd.DataFrame(fkhf_list, columns=['city_id', 'stat_date', 'fkhf'])\n",
    "print(\"ratedf:\", ratedf.head(5))"
   ]
  },
  {
   "cell_type": "code",
   "execution_count": 316,
   "metadata": {},
   "outputs": [],
   "source": [
    "df = pd.merge(ecrdf, ratedf, on=['city_id', 'stat_date'])\n",
    "df['ecr_dgmv_ratio'] = df.apply(gen_ecr_dgmv_ratio, axis=1)\n",
    "# df['ecr_dgmv_ratio'] = df.apply(gen_ecr_dgmv_ratio_new, axis=1)"
   ]
  },
  {
   "cell_type": "code",
   "execution_count": 317,
   "metadata": {},
   "outputs": [],
   "source": [
    "opti_data = pd.merge(df, gmvdf, on=['city_id', 'stat_date'], how='left')\n",
    "\n",
    "opti_data['delta_gmv'] = opti_data['ecr_dgmv_ratio'] * opti_data['total_gmv']\n",
    "opti_data['delta_cost'] = opti_data['fkhf'] * opti_data['total_gmv']"
   ]
  },
  {
   "cell_type": "code",
   "execution_count": 318,
   "metadata": {},
   "outputs": [],
   "source": [
    "opti_data2 = opti_data.query(\"city_id in @alloc_cis\")\n",
    "opti_data2['is_candidate']=1"
   ]
  },
  {
   "cell_type": "code",
   "execution_count": 319,
   "metadata": {},
   "outputs": [],
   "source": [
    "Valid_Col = 'is_candidate'\n",
    "opti_data[Valid_Col] = 1\n",
    "solver = BaseSolver(opti_data2, is_bp=False, city_must_cost=True, mode='city_bucket', total_budget=city_bucket_budget)"
   ]
  },
  {
   "cell_type": "code",
   "execution_count": 320,
   "metadata": {},
   "outputs": [
    {
     "name": "stdout",
     "output_type": "stream",
     "text": [
      "Solve status: 0. Time cost: 0.44s\n",
      "4505295.19661196\n"
     ]
    }
   ],
   "source": [
    "resdf = solver.solve()"
   ]
  },
  {
   "cell_type": "code",
   "execution_count": 322,
   "metadata": {},
   "outputs": [
    {
     "name": "stdout",
     "output_type": "stream",
     "text": [
      "ecr分框的预算:\n",
      "   ecr_bin        budget     total_gmv\n",
      "0        0  4.474147e+05  6.883303e+06\n",
      "1        1  1.642323e+06  3.122939e+07\n",
      "2        2  6.391007e+05  1.524255e+07\n",
      "3        3  2.553315e+05  7.400912e+06\n",
      "4        4  1.521125e+06  5.751086e+07\n"
     ]
    }
   ],
   "source": [
    "bin_costdf = resdf.groupby(['ecr_bin'])[['delta_cost', 'total_gmv']].agg(sum).reset_index().rename(columns={'delta_cost': 'budget'})\n",
    "print(\"ecr分框的预算:\")\n",
    "print(bin_costdf)"
   ]
  },
  {
   "cell_type": "code",
   "execution_count": 323,
   "metadata": {},
   "outputs": [],
   "source": [
    "bin_costdf['avg_rate'] = bin_costdf['budget']/bin_costdf['total_gmv']"
   ]
  },
  {
   "cell_type": "code",
   "execution_count": 324,
   "metadata": {},
   "outputs": [
    {
     "data": {
      "text/html": [
       "<div>\n",
       "<style scoped>\n",
       "    .dataframe tbody tr th:only-of-type {\n",
       "        vertical-align: middle;\n",
       "    }\n",
       "\n",
       "    .dataframe tbody tr th {\n",
       "        vertical-align: top;\n",
       "    }\n",
       "\n",
       "    .dataframe thead th {\n",
       "        text-align: right;\n",
       "    }\n",
       "</style>\n",
       "<table border=\"1\" class=\"dataframe\">\n",
       "  <thead>\n",
       "    <tr style=\"text-align: right;\">\n",
       "      <th></th>\n",
       "      <th>ecr_bin</th>\n",
       "      <th>budget</th>\n",
       "      <th>total_gmv</th>\n",
       "      <th>avg_rate</th>\n",
       "    </tr>\n",
       "  </thead>\n",
       "  <tbody>\n",
       "    <tr>\n",
       "      <th>0</th>\n",
       "      <td>0</td>\n",
       "      <td>4.474147e+05</td>\n",
       "      <td>6.883303e+06</td>\n",
       "      <td>0.065000</td>\n",
       "    </tr>\n",
       "    <tr>\n",
       "      <th>1</th>\n",
       "      <td>1</td>\n",
       "      <td>1.642323e+06</td>\n",
       "      <td>3.122939e+07</td>\n",
       "      <td>0.052589</td>\n",
       "    </tr>\n",
       "    <tr>\n",
       "      <th>2</th>\n",
       "      <td>2</td>\n",
       "      <td>6.391007e+05</td>\n",
       "      <td>1.524255e+07</td>\n",
       "      <td>0.041929</td>\n",
       "    </tr>\n",
       "    <tr>\n",
       "      <th>3</th>\n",
       "      <td>3</td>\n",
       "      <td>2.553315e+05</td>\n",
       "      <td>7.400912e+06</td>\n",
       "      <td>0.034500</td>\n",
       "    </tr>\n",
       "    <tr>\n",
       "      <th>4</th>\n",
       "      <td>4</td>\n",
       "      <td>1.521125e+06</td>\n",
       "      <td>5.751086e+07</td>\n",
       "      <td>0.026449</td>\n",
       "    </tr>\n",
       "  </tbody>\n",
       "</table>\n",
       "</div>"
      ],
      "text/plain": [
       "   ecr_bin        budget     total_gmv  avg_rate\n",
       "0        0  4.474147e+05  6.883303e+06  0.065000\n",
       "1        1  1.642323e+06  3.122939e+07  0.052589\n",
       "2        2  6.391007e+05  1.524255e+07  0.041929\n",
       "3        3  2.553315e+05  7.400912e+06  0.034500\n",
       "4        4  1.521125e+06  5.751086e+07  0.026449"
      ]
     },
     "execution_count": 324,
     "metadata": {},
     "output_type": "execute_result"
    }
   ],
   "source": [
    "bin_costdf"
   ]
  },
  {
   "cell_type": "markdown",
   "metadata": {},
   "source": [
    "# cr分框"
   ]
  },
  {
   "cell_type": "code",
   "execution_count": 325,
   "metadata": {},
   "outputs": [],
   "source": [
    "crdf = spark.sql(pred_cr_sql).toPandas()\n",
    "\n",
    "score = crdf.query(\"stat_date >= '%s' and stat_date <= '%s'\" % (sdate, edate))"
   ]
  },
  {
   "cell_type": "code",
   "execution_count": 326,
   "metadata": {},
   "outputs": [
    {
     "data": {
      "text/plain": [
       "\"\\nselect\\n    estimate_date as stat_date\\n    ,city_id\\n    ,cast(sum(if(key_id='objective_exp_openapi_pp', estimate_value, 0)) as Double) score -- 剔除openapi的客观cr\\nfrom \\n    mp_data.app_trip_mkt_supply_demand_forecast_result_di\\nwhere\\n    dt = date_sub('2023-05-31', 0) -- 指定的 gmv dt 分区\\n    and  estimate_date between '2023-06-01' and '2023-06-01'\\n    and city_id in (1,7,8,9,13,14,15,16,20,21,22,23,25,26,28,30,32,33,34,35,36,38,39,40,42,43,44,45,46,47,49,52,53,54,55,56,57,58,59,60,61,63,64,65,66,67,68,69,70,71,72,73,74,75,76,77,78,82,85,86,88,89,91,96,98,99,102,103,104,105,107,109,116,117,118,119,120,122,124,125,126,127,128,129,130,131,132,133,135,137,138,140,141,144,145,146,148,149,150,153,154,156,157,158,160,162,163,164,166,168,169,171,174,175,177,178,179,180,181,185,190,191,192,193,194,195,196,197,198,199,200,201,202,203,205,206,207,208,209,210,211,212,213,214,215,216,217,218,219,220,222,224,225,226,228,230,231,232,238,239,242,243,246,247,248,249,251,252,253,254,255,256,258,260,261,262,264,265,266,267,268,269,270,271,272,273,274,275,276,277,278,280,281,282,283,284,286,287,290,291,292,293,294,295,296,297,298,299,300,301,302,303,305,306,308,309,310,311,312,313,314,315,316,317,318,320,321,322,323,324,325,326,327,328,329,330,331,332,333,334,335,336,337,338,339,340,341,342,343,344,345,346,347,348,349,350,351,352,353,354,355,356,359,360,361,362,363,364,365,366,367,368,369,370,371,372)\\n    and product_name = '泛快2（快车&特惠快车&市内拼车）'\\ngroup by estimate_date, city_id\\n\""
      ]
     },
     "execution_count": 326,
     "metadata": {},
     "output_type": "execute_result"
    }
   ],
   "source": [
    "pred_cr_sql"
   ]
  },
  {
   "cell_type": "raw",
   "metadata": {},
   "source": [
    "# 函数"
   ]
  },
  {
   "cell_type": "code",
   "execution_count": 327,
   "metadata": {
    "code_folding": []
   },
   "outputs": [],
   "source": [
    "def gen_cr_bucket2(x):\n",
    "    if x <= 0.7:\n",
    "        return 0\n",
    "    elif x>0.7 and x <= 0.8:\n",
    "        return 1\n",
    "    elif x > 0.8 and x <= 0.86:\n",
    "        return 2\n",
    "    elif x > 0.86 and x <= 0.9:\n",
    "        return 3\n",
    "    elif x > 0.9 and x <= 0.93:\n",
    "        return 4\n",
    "    else:\n",
    "        return 5\n",
    "def gen_cr_bucket(x):\n",
    "    if x > 0 and x <= 0.5:\n",
    "        return 0\n",
    "    elif x > 0.5 and x <= 0.6:\n",
    "        return 1\n",
    "    elif x > 0.6 and x <= 0.68:\n",
    "        return 2\n",
    "    elif x > 0.68 and x <= 0.72:\n",
    "        return 3\n",
    "    elif x > 0.72 and x <= 0.76:\n",
    "        return 4\n",
    "    elif x > 0.76 and x <= 0.8:\n",
    "        return 5\n",
    "    elif x > 0.8 and x <= 0.85:\n",
    "        return 6\n",
    "    elif x > 0.85:\n",
    "        return 7"
   ]
  },
  {
   "cell_type": "raw",
   "metadata": {},
   "source": [
    "# 动态分框"
   ]
  },
  {
   "cell_type": "code",
   "execution_count": 328,
   "metadata": {
    "code_folding": [
     0
    ]
   },
   "outputs": [],
   "source": [
    "# def gen_cr_bucket1(x, m):\n",
    "#     if x <= m * 0.95:\n",
    "#         return 0\n",
    "#     elif x > m * 0.95 and x <= m * 0.97:\n",
    "#         return 1\n",
    "#     elif x > m * 0.97 and x <= m:\n",
    "#         return 2\n",
    "#     elif x > m and x <= m * 1.03:\n",
    "#         return 3\n",
    "#     elif x > m*1.03 and x <= m * 1.05:\n",
    "#         return 4\n",
    "#     else:\n",
    "#         return 5\n",
    "\n",
    "# cr_col = 'score'\n",
    "# score = score[score[cr_col] > 0]\n",
    "# score['bin'] = score[cr_col].apply(gen_cr_bucket2)\n",
    "# score['bin_val'] = score['bin'].apply(func_val)"
   ]
  },
  {
   "cell_type": "raw",
   "metadata": {},
   "source": [
    "# 固定分框"
   ]
  },
  {
   "cell_type": "code",
   "execution_count": 329,
   "metadata": {
    "code_folding": []
   },
   "outputs": [],
   "source": [
    "cr_col = 'score'\n",
    "score = score[score[cr_col] > 0]\n",
    "score['bin'] = score[cr_col].apply(gen_cr_bucket)\n",
    "score['bin_val'] = score['bin'].apply(lambda x: (x + 1) * 0.05 if x <= 3 else (0.25 * (x + 1) if x==4 else 0.35 * x))"
   ]
  },
  {
   "cell_type": "code",
   "execution_count": null,
   "metadata": {},
   "outputs": [],
   "source": []
  },
  {
   "cell_type": "code",
   "execution_count": 330,
   "metadata": {
    "scrolled": true
   },
   "outputs": [
    {
     "name": "stdout",
     "output_type": "stream",
     "text": [
      "4\n",
      "avg_rate: 0.030208048565663177\n",
      "7\n",
      "avg_rate: 0.022784563798036377\n",
      "4\n",
      "avg_rate: 0.017469507162270283\n",
      "2\n",
      "avg_rate: 0.014081632653061227\n",
      "18\n",
      "avg_rate: 0.011131294977382567\n"
     ]
    }
   ],
   "source": [
    "weightdf = pd.merge(score, gmvdf, on=['city_id', 'stat_date']).query(\"city_id in @alloc_cis\")\n",
    "weightdf['weight'] = weightdf.apply(lambda x: x['total_gmv'] * x['bin_val'], axis=1)\n",
    "\n",
    "df_li = []\n",
    "ecr_bins = sorted(ecrdf.ecr_bin.unique())\n",
    "for ecr_bin in ecr_bins:\n",
    "    tmpdf = ecrdf.query(\"ecr_bin==%d and city_id in @alloc_cis\" % ecr_bin)[['city_id', 'stat_date']]\n",
    "    tmpdf2 = pd.merge(weightdf, tmpdf)\n",
    "    print(len(tmpdf2))\n",
    "    if len(tmpdf2) > 0:\n",
    "        bin_budget = bin_costdf.query(\"ecr_bin==%d\" % ecr_bin)['budget'].iloc[0] # ecr分框预算\n",
    "        avg_rate = (bin_budget) / (tmpdf2['weight'].sum())  # 泛快呼返\n",
    "        print(\"avg_rate:\", avg_rate)\n",
    "        tmpdf2['avg_rate'] = tmpdf2['bin_val'].apply(lambda x: avg_rate * x)\n",
    "        tmpdf2['ecr_bin'] = ecr_bin\n",
    "        df_li.append(tmpdf2)\n",
    "    else:\n",
    "        continue\n",
    "cr_ratedf = pd.concat(df_li, ignore_index=True)"
   ]
  },
  {
   "cell_type": "code",
   "execution_count": 331,
   "metadata": {},
   "outputs": [
    {
     "name": "stdout",
     "output_type": "stream",
     "text": [
      "城市分框，候选集数量： 55965\n",
      "城市分框，过滤后的候选集数量： 4708\n"
     ]
    }
   ],
   "source": [
    "'''过滤候选集'''\n",
    "cr_ratedf['min_combo_rate'] = cr_ratedf['avg_rate'].apply(lambda x: x * 0.8).astype(float)\n",
    "cr_ratedf['max_combo_rate'] = cr_ratedf['avg_rate'].apply(lambda x: x * 1.2).astype(float)\n",
    "\n",
    "# 临时兜底约束\n",
    "# cr_ratedf['max_combo_rate'] = cr_ratedf.apply(lambda x: 0.01 if x.city_id in (8, 25) else x.max_combo_rate, axis=1)\n",
    "# cr_ratedf['min_combo_rate'] = cr_ratedf.apply(lambda x: 0.0 if x.city_id in (8, 25) else x.min_combo_rate, axis=1)\n",
    "# cr_ratedf['max_combo_rate'] = cr_ratedf.apply(lambda x: 0.02 if x.city_id in (14, 16, 22) else x.max_combo_rate, axis=1)\n",
    "# cr_ratedf['min_combo_rate'] = cr_ratedf.apply(lambda x: 0.0 if x.city_id in (14, 16, 22) else x.min_combo_rate, axis=1)\n",
    "\n",
    "\n",
    "                \n",
    "group_candidate = cr_ratedf.merge(pred_candidate, on=['city_id', 'stat_date'], how='left')\n",
    "print(\"城市分框，候选集数量：\", len(group_candidate))\n",
    "filter_pred_candidate = group_candidate.query(\"is_candidate==1 and crate>=min_combo_rate and crate<=max_combo_rate\")\n",
    "print(\"城市分框，过滤后的候选集数量：\", len(filter_pred_candidate))"
   ]
  },
  {
   "cell_type": "code",
   "execution_count": 341,
   "metadata": {},
   "outputs": [
    {
     "data": {
      "text/plain": [
       "(35,)"
      ]
     },
     "execution_count": 341,
     "metadata": {},
     "output_type": "execute_result"
    }
   ],
   "source": [
    "filter_pred_candidate['city_id'].unique().shape"
   ]
  },
  {
   "cell_type": "markdown",
   "metadata": {},
   "source": [
    "# 求解"
   ]
  },
  {
   "cell_type": "code",
   "execution_count": 345,
   "metadata": {},
   "outputs": [
    {
     "name": "stdout",
     "output_type": "stream",
     "text": [
      "自定义约束： pk_budget_upper_limit\n",
      "分框天数: 1 day pukuai budget: 112632.625\n",
      "Solve status: 0. Time cost: 0.74s\n",
      "4505304.153910066\n",
      "enlarge_times: 1.0000001877986269\n"
     ]
    }
   ],
   "source": [
    "\n",
    "solverold = BaseSolver(filter_pred_candidate, is_bp=True, city_must_cost=True,mode='city_bucket', total_budget=city_bucket_budget, other_constraints=['pk_budget_upper_limit'])\n",
    "resdfold = solverold.solve()\n",
    "scale_cols = ['kc_subsidy_rate', 'th_subsidy_rate', 'pk_budget', 'th_budget', 'delta_cost']\n",
    "resdfold2 = general_enlarge_rest_budget(resdfold, city_bucket_budget, scale_cols)\n",
    "resdfold2['ate_roi'] = resdfold2['ate']/resdfold2['delta_cost']"
   ]
  },
  {
   "cell_type": "code",
   "execution_count": null,
   "metadata": {},
   "outputs": [],
   "source": []
  },
  {
   "cell_type": "code",
   "execution_count": null,
   "metadata": {},
   "outputs": [],
   "source": []
  },
  {
   "cell_type": "code",
   "execution_count": null,
   "metadata": {},
   "outputs": [],
   "source": []
  },
  {
   "cell_type": "code",
   "execution_count": null,
   "metadata": {},
   "outputs": [],
   "source": []
  },
  {
   "cell_type": "code",
   "execution_count": null,
   "metadata": {},
   "outputs": [],
   "source": []
  },
  {
   "cell_type": "code",
   "execution_count": null,
   "metadata": {},
   "outputs": [],
   "source": []
  },
  {
   "cell_type": "code",
   "execution_count": null,
   "metadata": {},
   "outputs": [],
   "source": []
  }
 ],
 "metadata": {
  "kernelspec": {
   "display_name": "python36",
   "language": "python",
   "name": "python36"
  },
  "language_info": {
   "codemirror_mode": {
    "name": "ipython",
    "version": 3
   },
   "file_extension": ".py",
   "mimetype": "text/x-python",
   "name": "python",
   "nbconvert_exporter": "python",
   "pygments_lexer": "ipython3",
   "version": "3.6.13"
  },
  "toc": {
   "base_numbering": 1,
   "nav_menu": {},
   "number_sections": true,
   "sideBar": true,
   "skip_h1_title": false,
   "title_cell": "Table of Contents",
   "title_sidebar": "Contents",
   "toc_cell": false,
   "toc_position": {},
   "toc_section_display": true,
   "toc_window_display": false
  }
 },
 "nbformat": 4,
 "nbformat_minor": 5
}
