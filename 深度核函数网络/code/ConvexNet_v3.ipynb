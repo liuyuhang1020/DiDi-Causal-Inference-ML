{
 "cells": [
  {
   "attachments": {},
   "cell_type": "markdown",
   "metadata": {},
   "source": [
    "# ConvexNet v2版本：为了满足先验的凸性假设，需要保证核函数网络的所有权重W都大于0，之前使用将权重平方的方式保证大于0，现在改为把输入特征的网络的激活函数设为softplus函数，以保证输出结果W都大于0"
   ]
  },
  {
   "attachments": {},
   "cell_type": "markdown",
   "metadata": {},
   "source": [
    "# 该版本的改进是用实际业务数据进行训练后发现T和Y的关系具有城市异质性，不足是额外限制了所有偏置B大于0，且所有权重W和所有偏置B共用一个输入特征的网络。"
   ]
  },
  {
   "cell_type": "code",
   "execution_count": 2,
   "metadata": {},
   "outputs": [],
   "source": [
    "import torch\n",
    "from torch import nn\n",
    "import torch.nn.functional as F\n",
    "import torch.utils.data as data\n",
    "import matplotlib.pyplot as plt\n",
    "import pandas as pd\n",
    "from time import sleep\n",
    "from tqdm import tqdm"
   ]
  },
  {
   "attachments": {},
   "cell_type": "markdown",
   "metadata": {},
   "source": [
    "# 模型注意事项：\n",
    "# 1. 实例化网络时需要输入T（treatment样本）、X（feature样本）和Y（output样本），原因是网络需要寻找合适的初始化参数，有利于训练时网络的收敛。\n",
    "# 2. 参数kernel_num可以输入整数，如100，也可以输入元组/列表，如(50, 100, 200)。前者表示核函数层只有1层，每层有100个节点，后者表示核函数层有3层，第一层50个节点，第二层100个节点，第三层200个节点。（核函数层的具体定义和构造方法请查阅说明文档）\n",
    "# 3. 参数hidden_num可以输入整数，如100，也可以输入元组/列表，如(50, 100, 200)。前者表示输入X的网络只有1层隐藏层，每层有100个节点，后者表示输入X的网络有3层隐藏层，第一层50个节点，第二层100个节点，第三层200个节点。（隐藏层都是线性全连接层）"
   ]
  },
  {
   "cell_type": "code",
   "execution_count": 3,
   "metadata": {},
   "outputs": [],
   "source": [
    "class HiddenNet(nn.Module):\n",
    "\n",
    "\n",
    "    def __init__(self, X, w_target, b_target, hidden_num):\n",
    "        super(HiddenNet, self).__init__()\n",
    "        \n",
    "        self.hidden_num = hidden_num\n",
    "        self.w_shape = w_target.shape\n",
    "        self.w_layer = list()\n",
    "        self.b_layer = list()\n",
    "        self.w_bias = list()\n",
    "        self.w_scale = list()\n",
    "        self.b_bias = list()\n",
    "        self.b_scale = list()\n",
    "\n",
    "        stream = X\n",
    "        for i, l in enumerate(hidden_num):\n",
    "            self.w_layer.append(nn.Linear(stream.shape[1], l).cuda())\n",
    "            self.register_parameter(f'WL{i}P0', list(self.w_layer[i].parameters())[0])\n",
    "            self.register_parameter(f'WL{i}P1', list(self.w_layer[i].parameters())[1])\n",
    "            stream = F.softplus(self.w_layer[i](stream))\n",
    "            self.w_bias.append(stream.mean(axis=0))\n",
    "            self.w_scale.append(stream.std(axis=0))\n",
    "            stream = (stream - self.w_bias[i])/self.w_scale[i]\n",
    "        \n",
    "        self.w_layer.append(nn.Linear(l, w_target.shape[0]*w_target.shape[1]).cuda())\n",
    "        self.register_parameter(f'WL{i + 1}P0', list(self.w_layer[i + 1].parameters())[0])\n",
    "        self.register_parameter(f'WL{i + 1}P1', list(self.w_layer[i + 1].parameters())[1])\n",
    "        stream = F.softplus(self.w_layer[i + 1](stream))\n",
    "        self.w_bias.append(torch.zeros(w_target.shape[0]*w_target.shape[1]).cuda())\n",
    "        self.w_scale.append((stream.max(axis=0)[0] - stream.min(axis=0)[0])/(4*w_target.flatten()))\n",
    "        stream = (stream - self.w_bias[i + 1])/self.w_scale[i + 1]\n",
    "        W = stream.reshape((-1, self.w_shape[0], self.w_shape[1]))\n",
    "\n",
    "        stream = X\n",
    "        for i, l in enumerate(self.hidden_num):\n",
    "            self.b_layer.append(nn.Linear(stream.shape[1], l).cuda())\n",
    "            self.register_parameter(f'BL{i}P0', list(self.b_layer[i].parameters())[0])\n",
    "            self.register_parameter(f'BL{i}P1', list(self.b_layer[i].parameters())[1])\n",
    "            stream = torch.tanh(self.b_layer[i](stream))\n",
    "            self.b_bias.append(stream.mean(axis=0))\n",
    "            self.b_scale.append(stream.std(axis=0))\n",
    "            stream = (stream - self.b_bias[i])/self.b_scale[i]\n",
    "            \n",
    "        self.b_layer.append(nn.Linear(l, b_target.shape[0]).cuda())\n",
    "        self.register_parameter(f'BL{i + 1}P0', list(self.b_layer[i + 1].parameters())[0])\n",
    "        self.register_parameter(f'BL{i + 1}P1', list(self.b_layer[i + 1].parameters())[1])\n",
    "        stream = self.b_layer[i + 1](stream)\n",
    "        self.b_bias.append(stream.mean(axis=0) - stream.std(axis=0)*b_target)\n",
    "        self.b_scale.append(stream.std(axis=0))\n",
    "        B = (stream - self.b_bias[i + 1])/self.b_scale[i + 1]\n",
    "\n",
    "\n",
    "    def forward(self, X):\n",
    "\n",
    "        stream = X\n",
    "        for i in range(len(self.hidden_num) + 1):\n",
    "            stream = F.softplus(self.w_layer[i](stream))\n",
    "            stream = (stream - self.w_bias[i])/self.w_scale[i]\n",
    "        W = stream.reshape((-1, self.w_shape[0], self.w_shape[1]))\n",
    "        \n",
    "        stream = X\n",
    "        for i in range(len(self.hidden_num)):\n",
    "            stream = torch.tanh(self.b_layer[i](stream))\n",
    "            stream = (stream - self.b_bias[i])/self.b_scale[i]\n",
    "        stream = self.b_layer[i + 1](stream)\n",
    "        B = (stream - self.b_bias[i + 1])/self.b_scale[i + 1]\n",
    "\n",
    "        return W, B"
   ]
  },
  {
   "cell_type": "code",
   "execution_count": 4,
   "metadata": {},
   "outputs": [],
   "source": [
    "class ConvexNet(nn.Module):\n",
    "\n",
    "\n",
    "    def __init__(self, T, X, Y, kernel_num, hidden_num):\n",
    "        super(ConvexNet, self).__init__()\n",
    "\n",
    "        if isinstance(kernel_num, int):\n",
    "            kernel_num = tuple([kernel_num])\n",
    "        if isinstance(hidden_num, int):\n",
    "            hidden_num = tuple([hidden_num])\n",
    "\n",
    "        self.kernel_num = kernel_num\n",
    "        self.hidden_net = list()\n",
    "        self.bias = list()\n",
    "        self.scale = list()\n",
    "\n",
    "        stream = T\n",
    "        for i, k in enumerate(kernel_num):\n",
    "            linear_layer = nn.Linear(stream.shape[1], k).cuda()\n",
    "            w = torch.abs(linear_layer.weight)\n",
    "            b = linear_layer.bias\n",
    "            self.hidden_net.append(HiddenNet(X, w, b, hidden_num).cuda())\n",
    "            for p, parameter in enumerate(self.hidden_net[i].parameters()):\n",
    "                self.register_parameter(f'H{i}P{p}', parameter)\n",
    "            W, B = self.hidden_net[i](X)\n",
    "            stream = self.kernel(torch.bmm(stream.unsqueeze(1), W.transpose(1, 2)).squeeze(1) + B)\n",
    "            self.bias.append(stream.mean(axis=0))\n",
    "            self.scale.append(stream.std(axis=0))\n",
    "            stream = (stream - self.bias[i])/self.scale[i]\n",
    "        \n",
    "        linear_layer = nn.Linear(k, Y.shape[1]).cuda()\n",
    "        w = torch.abs(linear_layer.weight)\n",
    "        b = linear_layer.bias\n",
    "        self.hidden_net.append(HiddenNet(X, w, b, hidden_num).cuda())\n",
    "        for p, parameter in enumerate(self.hidden_net[i + 1].parameters()):\n",
    "            self.register_parameter(f'H{i + 1}P{p}', parameter)\n",
    "        W, B = self.hidden_net[i + 1](X)\n",
    "        stream = torch.bmm(stream.unsqueeze(1), W.transpose(1, 2)).squeeze(1) + B\n",
    "        self.bias.append(stream.mean(axis=0) - Y.mean(axis=0)*stream.std(axis=0)/Y.std(axis=0))\n",
    "        self.scale.append(stream.std(axis=0)/Y.std(axis=0))\n",
    "        output = (stream - self.bias[i + 1])/self.scale[i + 1]\n",
    "\n",
    "\n",
    "    def forward(self, T, X):\n",
    "        \n",
    "        stream = T\n",
    "        for i in range(len(self.kernel_num)):\n",
    "            W, B = self.hidden_net[i](X)\n",
    "            stream = self.kernel(torch.bmm(stream.unsqueeze(1), W.transpose(1, 2)).squeeze(1) + B)\n",
    "            stream = (stream - self.bias[i])/self.scale[i]\n",
    "        \n",
    "        W, B = self.hidden_net[i + 1](X)\n",
    "        stream = torch.bmm(stream.unsqueeze(1), W.transpose(1, 2)).squeeze(1) + B\n",
    "        output = (stream - self.bias[i + 1])/self.scale[i + 1]\n",
    "\n",
    "        return output\n",
    "\n",
    "\n",
    "    def kernel(self, input):\n",
    "        \n",
    "        output = torch.zeros_like(input).cuda()\n",
    "        ix1 = int(input.shape[1]/4)\n",
    "        ix2 = 2*ix1\n",
    "        ix3 = int((input.shape[1] - ix2)/2) + ix2\n",
    "\n",
    "        output[:, :ix1] = input[:, :ix1] - torch.log(torch.exp(input[:, :ix1]) + 1)\n",
    "        \n",
    "        output[:, ix1:ix2][input[:, ix1:ix2] >= 0] = torch.log(input[:, ix1:ix2][input[:, ix1:ix2] >= 0] + 1)\n",
    "        output[:, ix1:ix2][input[:, ix1:ix2] < 0] = torch.log(1 - input[:, ix1:ix2][input[:, ix1:ix2] < 0]) + 2*input[:, ix1:ix2][input[:, ix1:ix2] < 0]\n",
    "       \n",
    "        a1 = torch.linspace(0, 1, ix3 - ix2 + 1)[1:].repeat((input.shape[0], 1)).cuda()\n",
    "        pos1 = (input[:, ix2:ix3] >= 0)\n",
    "        neg1 = (input[:, ix2:ix3] < 0)\n",
    "        output[:, ix2:ix3][pos1] = (input[:, ix2:ix3][pos1] + 1)**a1[pos1] - 1\n",
    "        output[:, ix2:ix3][neg1] = (1 - input[:, ix2:ix3][neg1])**a1[neg1] + 2*a1[neg1]*input[:, ix2:ix3][neg1] - 1\n",
    "       \n",
    "        a2 = torch.linspace(0, 1, input.shape[1] - ix3 + 1)[1:].repeat((input.shape[0], 1)).cuda()\n",
    "        pos2 = (input[:, ix3:] >= 0)\n",
    "        neg2 = (input[:, ix3:] < 0)\n",
    "        output[:, ix3:][pos2] = -1/((input[:, ix3:][pos2] + 1)**a2[pos2]) + 1\n",
    "        output[:, ix3:][neg2] = -1/((1 - input[:, ix3:][neg2])**a2[neg2]) + 2*a2[neg2]*input[:, ix3:][neg2] + 1\n",
    "      \n",
    "        return output        "
   ]
  },
  {
   "cell_type": "code",
   "execution_count": 5,
   "metadata": {},
   "outputs": [],
   "source": [
    "df = pd.read_csv('feature_new.csv')\n",
    "\n",
    "drop_columns = ['dt', 'group_type_exp', 'group_type_blank', 'sample_size_blank', 'sample_size_exp', \n",
    "                'snpc_fkdp_subsidy_hufan_ratio_3d', 'snpc_fkdp_subsidy_hufan_ratio_14d_term']\n",
    "T_columns = ['pk_hufan_rate_exp', 'th_hufan_rate_exp', 'fk_hufan_rate_exp', \n",
    "             'fk_subsidy_exp', 'fk_subsidy_exp.1',\n",
    "             'pk_hufan_rate_blank', 'th_hufan_rate_blank', 'fk_hufan_rate_blank', \n",
    "             'delta_pk_rate', 'delta_th_rate', 'delta_hufan_rate', \n",
    "             'kh_sub_rate',\n",
    "             'pk_target_c_rate', 'th_target_c_rate', 'fk_target_rate'] # 有缺失值\n",
    "Y_columns = ['wyc_gmv', 'kuaiche_gmv', 'tehui_gmv', 'fk_gmv',\n",
    "             'pk_gmv_exp', 'th_gmv_exp', 'fk_gmv_exp', 'wc_gmv_exp', 'wyc_gmv_exp', 'wc_gmv_exp.1', 'wyc_gmv_exp.1',\n",
    "             'pk_gmv_blank', 'th_gmv_blank', 'fk_gmv_blank', \n",
    "             'dgmv_ratio_pk', 'dgmv_ratio_th', 'dgmv_ratio', \n",
    "             'real_roi']\n",
    "feature_columns = list(set(df.columns) - set(drop_columns + T_columns + Y_columns))\n",
    "\n",
    "T = torch.from_numpy(df['delta_hufan_rate'].values).reshape(-1, 1).float()\n",
    "X = torch.from_numpy(df[feature_columns].values).float()\n",
    "Y = torch.from_numpy(df['dgmv_ratio'].values).reshape(-1, 1).float()\n",
    "\n",
    "city = 27\n",
    "T = torch.from_numpy(df[df['city_id'] <= city]['delta_hufan_rate'].values).reshape(-1, 1).float().cuda()\n",
    "X = torch.from_numpy(df[df['city_id'] <= city][feature_columns].values).float().cuda()\n",
    "Y = torch.from_numpy(df[df['city_id'] <= city]['dgmv_ratio'].values).reshape(-1, 1).float().cuda()"
   ]
  },
  {
   "cell_type": "code",
   "execution_count": 6,
   "metadata": {},
   "outputs": [
    {
     "data": {
      "text/plain": [
       "<matplotlib.collections.PathCollection at 0x7f4afc7246d0>"
      ]
     },
     "execution_count": 6,
     "metadata": {},
     "output_type": "execute_result"
    },
    {
     "data": {
      "image/png": "[encoded data removed]",
      "text/plain": [
       "<Figure size 432x288 with 1 Axes>"
      ]
     },
     "metadata": {
      "needs_background": "light"
     },
     "output_type": "display_data"
    }
   ],
   "source": [
    "CN = ConvexNet(T, X, Y, kernel_num=100, hidden_num=100).cuda()\n",
    "Y_pred = CN(T, X)\n",
    "plt.scatter(T.cpu(), Y.cpu(), s=0.1, alpha=0.5)\n",
    "plt.scatter(T.cpu().detach().numpy(), Y_pred.cpu().detach().numpy(), color='orange', s=0.1, alpha=0.5)"
   ]
  },
  {
   "cell_type": "code",
   "execution_count": 7,
   "metadata": {},
   "outputs": [
    {
     "name": "stderr",
     "output_type": "stream",
     "text": [
      "Epoch 0:   0%|          | 0/261 [00:00<?, ?batch/s, MSE=0.00717, R2=-1.02]\n"
     ]
    },
    {
     "ename": "RuntimeError",
     "evalue": "one of the variables needed for gradient computation has been modified by an inplace operation: [torch.cuda.FloatTensor [100, 1]], which is output 0 of AsStridedBackward0, is at version 3; expected version 1 instead. Hint: enable anomaly detection to find the operation that failed to compute its gradient, with torch.autograd.set_detect_anomaly(True).",
     "output_type": "error",
     "traceback": [
      "\u001b[0;31m---------------------------------------------------------------------------\u001b[0m",
      "\u001b[0;31mRuntimeError\u001b[0m                              Traceback (most recent call last)",
      "\u001b[0;32m<ipython-input-7-ee46ae75e086>\u001b[0m in \u001b[0;36m<module>\u001b[0;34m\u001b[0m\n\u001b[1;32m     15\u001b[0m             \u001b[0mloss\u001b[0m \u001b[0;34m=\u001b[0m \u001b[0mloss_fn\u001b[0m\u001b[0;34m(\u001b[0m\u001b[0my_pred\u001b[0m\u001b[0;34m,\u001b[0m \u001b[0mbatch_y\u001b[0m\u001b[0;34m)\u001b[0m\u001b[0;34m\u001b[0m\u001b[0;34m\u001b[0m\u001b[0m\n\u001b[1;32m     16\u001b[0m             \u001b[0moptimizer\u001b[0m\u001b[0;34m.\u001b[0m\u001b[0mzero_grad\u001b[0m\u001b[0;34m(\u001b[0m\u001b[0;34m)\u001b[0m\u001b[0;34m\u001b[0m\u001b[0;34m\u001b[0m\u001b[0m\n\u001b[0;32m---> 17\u001b[0;31m             \u001b[0mloss\u001b[0m\u001b[0;34m.\u001b[0m\u001b[0mbackward\u001b[0m\u001b[0;34m(\u001b[0m\u001b[0mretain_graph\u001b[0m\u001b[0;34m=\u001b[0m\u001b[0;32mTrue\u001b[0m\u001b[0;34m)\u001b[0m\u001b[0;34m\u001b[0m\u001b[0;34m\u001b[0m\u001b[0m\n\u001b[0m\u001b[1;32m     18\u001b[0m             \u001b[0moptimizer\u001b[0m\u001b[0;34m.\u001b[0m\u001b[0mstep\u001b[0m\u001b[0;34m(\u001b[0m\u001b[0;34m)\u001b[0m\u001b[0;34m\u001b[0m\u001b[0;34m\u001b[0m\u001b[0m\n\u001b[1;32m     19\u001b[0m             \u001b[0mr2\u001b[0m \u001b[0;34m=\u001b[0m \u001b[0;36m1\u001b[0m \u001b[0;34m-\u001b[0m \u001b[0mloss\u001b[0m\u001b[0;34m.\u001b[0m\u001b[0mitem\u001b[0m\u001b[0;34m(\u001b[0m\u001b[0;34m)\u001b[0m\u001b[0;34m/\u001b[0m\u001b[0mbatch_y\u001b[0m\u001b[0;34m.\u001b[0m\u001b[0mvar\u001b[0m\u001b[0;34m(\u001b[0m\u001b[0;34m)\u001b[0m\u001b[0;34m\u001b[0m\u001b[0;34m\u001b[0m\u001b[0m\n",
      "\u001b[0;32m~/anaconda3/lib/python3.7/site-packages/torch/_tensor.py\u001b[0m in \u001b[0;36mbackward\u001b[0;34m(self, gradient, retain_graph, create_graph, inputs)\u001b[0m\n\u001b[1;32m    487\u001b[0m             )\n\u001b[1;32m    488\u001b[0m         torch.autograd.backward(\n\u001b[0;32m--> 489\u001b[0;31m             \u001b[0mself\u001b[0m\u001b[0;34m,\u001b[0m \u001b[0mgradient\u001b[0m\u001b[0;34m,\u001b[0m \u001b[0mretain_graph\u001b[0m\u001b[0;34m,\u001b[0m \u001b[0mcreate_graph\u001b[0m\u001b[0;34m,\u001b[0m \u001b[0minputs\u001b[0m\u001b[0;34m=\u001b[0m\u001b[0minputs\u001b[0m\u001b[0;34m\u001b[0m\u001b[0;34m\u001b[0m\u001b[0m\n\u001b[0m\u001b[1;32m    490\u001b[0m         )\n\u001b[1;32m    491\u001b[0m \u001b[0;34m\u001b[0m\u001b[0m\n",
      "\u001b[0;32m~/anaconda3/lib/python3.7/site-packages/torch/autograd/__init__.py\u001b[0m in \u001b[0;36mbackward\u001b[0;34m(tensors, grad_tensors, retain_graph, create_graph, grad_variables, inputs)\u001b[0m\n\u001b[1;32m    197\u001b[0m     Variable._execution_engine.run_backward(  # Calls into the C++ engine to run the backward pass\n\u001b[1;32m    198\u001b[0m         \u001b[0mtensors\u001b[0m\u001b[0;34m,\u001b[0m \u001b[0mgrad_tensors_\u001b[0m\u001b[0;34m,\u001b[0m \u001b[0mretain_graph\u001b[0m\u001b[0;34m,\u001b[0m \u001b[0mcreate_graph\u001b[0m\u001b[0;34m,\u001b[0m \u001b[0minputs\u001b[0m\u001b[0;34m,\u001b[0m\u001b[0;34m\u001b[0m\u001b[0;34m\u001b[0m\u001b[0m\n\u001b[0;32m--> 199\u001b[0;31m         allow_unreachable=True, accumulate_grad=True)  # Calls into the C++ engine to run the backward pass\n\u001b[0m\u001b[1;32m    200\u001b[0m \u001b[0;34m\u001b[0m\u001b[0m\n\u001b[1;32m    201\u001b[0m def grad(\n",
      "\u001b[0;31mRuntimeError\u001b[0m: one of the variables needed for gradient computation has been modified by an inplace operation: [torch.cuda.FloatTensor [100, 1]], which is output 0 of AsStridedBackward0, is at version 3; expected version 1 instead. Hint: enable anomaly detection to find the operation that failed to compute its gradient, with torch.autograd.set_detect_anomaly(True)."
     ]
    }
   ],
   "source": [
    "TX = torch.cat((T, X), axis=1)\n",
    "loader = data.DataLoader(dataset=data.TensorDataset(TX, Y), batch_size=16, shuffle=True)\n",
    "\n",
    "loss_fn = nn.MSELoss().cuda()\n",
    "optimizer = torch.optim.ASGD(list(CN.parameters()), lr=1e-3)\n",
    "\n",
    "CN.train()\n",
    "for epoch in range(10000):\n",
    "    with tqdm(loader, unit=\"batch\") as tepoch:\n",
    "        for batch_tx, batch_y in tepoch:\n",
    "            tepoch.set_description(f\"Epoch {epoch}\")\n",
    "            batch_t = batch_tx[:, 0].reshape(-1, 1)\n",
    "            batch_x = batch_tx[:, 1:]\n",
    "            y_pred = CN(batch_t, batch_x)\n",
    "            loss = loss_fn(y_pred, batch_y)\n",
    "            optimizer.zero_grad()\n",
    "            loss.backward(retain_graph=True)\n",
    "            optimizer.step()\n",
    "            r2 = 1 - loss.item()/batch_y.var()\n",
    "            tepoch.set_postfix(MSE=loss.item(), R2=r2.item())\n",
    "            sleep(0.0001)\n",
    "    period = 1\n",
    "    if (epoch + 1) % period == 0:\n",
    "        plt.figure(num=int((epoch + 1)/period))\n",
    "        Y_pred = CN(T, X)\n",
    "        plt.scatter(T, Y, s=0.1, alpha=0.5)\n",
    "        plt.scatter(T.detach().numpy(), Y_pred.detach().numpy(), color='orange', s=0.1, alpha=0.5)\n",
    "        loss = loss_fn(Y_pred, Y)\n",
    "        r2 = 1 - loss.item()/Y.var()\n",
    "        plt.title('$Epoch %d: MSE=%.3g, R^2=%.3g$' % (epoch + 1, loss, r2))\n",
    "        plt.show()"
   ]
  },
  {
   "cell_type": "code",
   "execution_count": null,
   "metadata": {},
   "outputs": [],
   "source": []
  }
 ],
 "metadata": {
  "kernelspec": {
   "display_name": "base",
   "language": "python",
   "name": "python3"
  },
  "language_info": {
   "codemirror_mode": {
    "name": "ipython",
    "version": 3
   },
   "file_extension": ".py",
   "mimetype": "text/x-python",
   "name": "python",
   "nbconvert_exporter": "python",
   "pygments_lexer": "ipython3",
   "version": "3.7.4"
  },
  "toc": {
   "base_numbering": 1,
   "nav_menu": {},
   "number_sections": true,
   "sideBar": true,
   "skip_h1_title": false,
   "title_cell": "Table of Contents",
   "title_sidebar": "Contents",
   "toc_cell": false,
   "toc_position": {},
   "toc_section_display": true,
   "toc_window_display": false
  }
 },
 "nbformat": 4,
 "nbformat_minor": 2
}
